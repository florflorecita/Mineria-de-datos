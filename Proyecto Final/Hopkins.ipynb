{
 "cells": [
  {
   "cell_type": "markdown",
   "metadata": {},
   "source": [
    "\n",
    "# Data preparation"
   ]
  },
  {
   "cell_type": "markdown",
   "metadata": {},
   "source": [
    "Cargamos las librerías necesarias para el análisis de Hopkins."
   ]
  },
  {
   "cell_type": "code",
   "execution_count": 16,
   "metadata": {},
   "outputs": [
    {
     "name": "stderr",
     "output_type": "stream",
     "text": [
      "Loading required package: ggplot2\n",
      "\n",
      "Welcome! Want to learn more? See two factoextra-related books at https://goo.gl/ve3WBa\n",
      "\n"
     ]
    }
   ],
   "source": [
    "library(factoextra)\n",
    "library(clustertend)"
   ]
  },
  {
   "cell_type": "markdown",
   "metadata": {},
   "source": [
    "Asignamos una semilla para volver a reproducir los mismos valores."
   ]
  },
  {
   "cell_type": "code",
   "execution_count": 2,
   "metadata": {},
   "outputs": [],
   "source": [
    "set.seed(42)"
   ]
  },
  {
   "cell_type": "markdown",
   "metadata": {},
   "source": [
    "Cargamos los datos."
   ]
  },
  {
   "cell_type": "code",
   "execution_count": 3,
   "metadata": {},
   "outputs": [],
   "source": [
    "datos <- read.csv(file = 'Data_cluster.csv')\n",
    "datos <- datos[c(1:8)]"
   ]
  },
  {
   "cell_type": "code",
   "execution_count": 4,
   "metadata": {},
   "outputs": [
    {
     "data": {
      "text/html": [
       "<table>\n",
       "<caption>A data.frame: 5 × 8</caption>\n",
       "<thead>\n",
       "\t<tr><th></th><th scope=col>PRECIO</th><th scope=col>DELEGACION</th><th scope=col>T_HABITACION</th><th scope=col>MIN_NOCHES</th><th scope=col>N_COMENTARIOS</th><th scope=col>COMENTARIOSXMES</th><th scope=col>N_VECES_HOST_LISTADO</th><th scope=col>DISPONIBILIDAD</th></tr>\n",
       "\t<tr><th></th><th scope=col>&lt;int&gt;</th><th scope=col>&lt;int&gt;</th><th scope=col>&lt;int&gt;</th><th scope=col>&lt;int&gt;</th><th scope=col>&lt;int&gt;</th><th scope=col>&lt;dbl&gt;</th><th scope=col>&lt;int&gt;</th><th scope=col>&lt;int&gt;</th></tr>\n",
       "</thead>\n",
       "<tbody>\n",
       "\t<tr><th scope=row>1</th><td>1969</td><td>1</td><td>1</td><td>1</td><td>57</td><td>0.52</td><td> 9</td><td>355</td></tr>\n",
       "\t<tr><th scope=row>2</th><td>1893</td><td>1</td><td>1</td><td>1</td><td>39</td><td>0.42</td><td>10</td><td>334</td></tr>\n",
       "\t<tr><th scope=row>3</th><td>1625</td><td>1</td><td>2</td><td>3</td><td>39</td><td>0.43</td><td> 1</td><td>178</td></tr>\n",
       "\t<tr><th scope=row>4</th><td> 956</td><td>1</td><td>1</td><td>2</td><td>51</td><td>2.55</td><td> 3</td><td>180</td></tr>\n",
       "\t<tr><th scope=row>5</th><td>1816</td><td>1</td><td>2</td><td>2</td><td>39</td><td>0.42</td><td> 3</td><td>361</td></tr>\n",
       "</tbody>\n",
       "</table>\n"
      ],
      "text/latex": [
       "A data.frame: 5 × 8\n",
       "\\begin{tabular}{r|llllllll}\n",
       "  & PRECIO & DELEGACION & T\\_HABITACION & MIN\\_NOCHES & N\\_COMENTARIOS & COMENTARIOSXMES & N\\_VECES\\_HOST\\_LISTADO & DISPONIBILIDAD\\\\\n",
       "  & <int> & <int> & <int> & <int> & <int> & <dbl> & <int> & <int>\\\\\n",
       "\\hline\n",
       "\t1 & 1969 & 1 & 1 & 1 & 57 & 0.52 &  9 & 355\\\\\n",
       "\t2 & 1893 & 1 & 1 & 1 & 39 & 0.42 & 10 & 334\\\\\n",
       "\t3 & 1625 & 1 & 2 & 3 & 39 & 0.43 &  1 & 178\\\\\n",
       "\t4 &  956 & 1 & 1 & 2 & 51 & 2.55 &  3 & 180\\\\\n",
       "\t5 & 1816 & 1 & 2 & 2 & 39 & 0.42 &  3 & 361\\\\\n",
       "\\end{tabular}\n"
      ],
      "text/markdown": [
       "\n",
       "A data.frame: 5 × 8\n",
       "\n",
       "| <!--/--> | PRECIO &lt;int&gt; | DELEGACION &lt;int&gt; | T_HABITACION &lt;int&gt; | MIN_NOCHES &lt;int&gt; | N_COMENTARIOS &lt;int&gt; | COMENTARIOSXMES &lt;dbl&gt; | N_VECES_HOST_LISTADO &lt;int&gt; | DISPONIBILIDAD &lt;int&gt; |\n",
       "|---|---|---|---|---|---|---|---|---|\n",
       "| 1 | 1969 | 1 | 1 | 1 | 57 | 0.52 |  9 | 355 |\n",
       "| 2 | 1893 | 1 | 1 | 1 | 39 | 0.42 | 10 | 334 |\n",
       "| 3 | 1625 | 1 | 2 | 3 | 39 | 0.43 |  1 | 178 |\n",
       "| 4 |  956 | 1 | 1 | 2 | 51 | 2.55 |  3 | 180 |\n",
       "| 5 | 1816 | 1 | 2 | 2 | 39 | 0.42 |  3 | 361 |\n",
       "\n"
      ],
      "text/plain": [
       "  PRECIO DELEGACION T_HABITACION MIN_NOCHES N_COMENTARIOS COMENTARIOSXMES\n",
       "1 1969   1          1            1          57            0.52           \n",
       "2 1893   1          1            1          39            0.42           \n",
       "3 1625   1          2            3          39            0.43           \n",
       "4  956   1          1            2          51            2.55           \n",
       "5 1816   1          2            2          39            0.42           \n",
       "  N_VECES_HOST_LISTADO DISPONIBILIDAD\n",
       "1  9                   355           \n",
       "2 10                   334           \n",
       "3  1                   178           \n",
       "4  3                   180           \n",
       "5  3                   361           "
      ]
     },
     "metadata": {},
     "output_type": "display_data"
    }
   ],
   "source": [
    "head(datos,5)"
   ]
  },
  {
   "cell_type": "markdown",
   "metadata": {},
   "source": [
    "Normalizamos los datos."
   ]
  },
  {
   "cell_type": "code",
   "execution_count": 5,
   "metadata": {},
   "outputs": [
    {
     "data": {
      "text/html": [
       "<style>\n",
       ".list-inline {list-style: none; margin:0; padding: 0}\n",
       ".list-inline>li {display: inline-block}\n",
       ".list-inline>li:not(:last-child)::after {content: \"\\00b7\"; padding: 0 .5ex}\n",
       "</style>\n",
       "<ol class=list-inline><li>14154</li><li>8</li></ol>\n"
      ],
      "text/latex": [
       "\\begin{enumerate*}\n",
       "\\item 14154\n",
       "\\item 8\n",
       "\\end{enumerate*}\n"
      ],
      "text/markdown": [
       "1. 14154\n",
       "2. 8\n",
       "\n",
       "\n"
      ],
      "text/plain": [
       "[1] 14154     8"
      ]
     },
     "metadata": {},
     "output_type": "display_data"
    }
   ],
   "source": [
    "df <- scale(datos)\n",
    "dim(df)"
   ]
  },
  {
   "cell_type": "code",
   "execution_count": 6,
   "metadata": {},
   "outputs": [
    {
     "data": {
      "text/html": [
       "<table>\n",
       "<caption>A matrix: 3 × 8 of type dbl</caption>\n",
       "<thead>\n",
       "\t<tr><th scope=col>PRECIO</th><th scope=col>DELEGACION</th><th scope=col>T_HABITACION</th><th scope=col>MIN_NOCHES</th><th scope=col>N_COMENTARIOS</th><th scope=col>COMENTARIOSXMES</th><th scope=col>N_VECES_HOST_LISTADO</th><th scope=col>DISPONIBILIDAD</th></tr>\n",
       "</thead>\n",
       "<tbody>\n",
       "\t<tr><td>0.3651724</td><td>-0.71764</td><td>-1.0924049</td><td>-0.11304770</td><td>0.7644740</td><td>-0.6674764</td><td> 0.6948482</td><td> 1.0755141</td></tr>\n",
       "\t<tr><td>0.3346766</td><td>-0.71764</td><td>-1.0924049</td><td>-0.11304770</td><td>0.3075661</td><td>-0.7241561</td><td> 0.8406430</td><td> 0.9151327</td></tr>\n",
       "\t<tr><td>0.2271391</td><td>-0.71764</td><td> 0.8249933</td><td> 0.03015516</td><td>0.3075661</td><td>-0.7184882</td><td>-0.4715104</td><td>-0.2762717</td></tr>\n",
       "</tbody>\n",
       "</table>\n"
      ],
      "text/latex": [
       "A matrix: 3 × 8 of type dbl\n",
       "\\begin{tabular}{llllllll}\n",
       " PRECIO & DELEGACION & T\\_HABITACION & MIN\\_NOCHES & N\\_COMENTARIOS & COMENTARIOSXMES & N\\_VECES\\_HOST\\_LISTADO & DISPONIBILIDAD\\\\\n",
       "\\hline\n",
       "\t 0.3651724 & -0.71764 & -1.0924049 & -0.11304770 & 0.7644740 & -0.6674764 &  0.6948482 &  1.0755141\\\\\n",
       "\t 0.3346766 & -0.71764 & -1.0924049 & -0.11304770 & 0.3075661 & -0.7241561 &  0.8406430 &  0.9151327\\\\\n",
       "\t 0.2271391 & -0.71764 &  0.8249933 &  0.03015516 & 0.3075661 & -0.7184882 & -0.4715104 & -0.2762717\\\\\n",
       "\\end{tabular}\n"
      ],
      "text/markdown": [
       "\n",
       "A matrix: 3 × 8 of type dbl\n",
       "\n",
       "| PRECIO | DELEGACION | T_HABITACION | MIN_NOCHES | N_COMENTARIOS | COMENTARIOSXMES | N_VECES_HOST_LISTADO | DISPONIBILIDAD |\n",
       "|---|---|---|---|---|---|---|---|\n",
       "| 0.3651724 | -0.71764 | -1.0924049 | -0.11304770 | 0.7644740 | -0.6674764 |  0.6948482 |  1.0755141 |\n",
       "| 0.3346766 | -0.71764 | -1.0924049 | -0.11304770 | 0.3075661 | -0.7241561 |  0.8406430 |  0.9151327 |\n",
       "| 0.2271391 | -0.71764 |  0.8249933 |  0.03015516 | 0.3075661 | -0.7184882 | -0.4715104 | -0.2762717 |\n",
       "\n"
      ],
      "text/plain": [
       "     PRECIO    DELEGACION T_HABITACION MIN_NOCHES  N_COMENTARIOS\n",
       "[1,] 0.3651724 -0.71764   -1.0924049   -0.11304770 0.7644740    \n",
       "[2,] 0.3346766 -0.71764   -1.0924049   -0.11304770 0.3075661    \n",
       "[3,] 0.2271391 -0.71764    0.8249933    0.03015516 0.3075661    \n",
       "     COMENTARIOSXMES N_VECES_HOST_LISTADO DISPONIBILIDAD\n",
       "[1,] -0.6674764       0.6948482            1.0755141    \n",
       "[2,] -0.7241561       0.8406430            0.9151327    \n",
       "[3,] -0.7184882      -0.4715104           -0.2762717    "
      ]
     },
     "metadata": {},
     "output_type": "display_data"
    }
   ],
   "source": [
    "head(df,3)"
   ]
  },
  {
   "cell_type": "markdown",
   "metadata": {},
   "source": [
    "Creamos 10 submuestras para evaluar si su nivel de significancia es mayor a 0.5"
   ]
  },
  {
   "cell_type": "code",
   "execution_count": 7,
   "metadata": {},
   "outputs": [],
   "source": [
    "rows <- sample(nrow(df))"
   ]
  },
  {
   "cell_type": "code",
   "execution_count": 8,
   "metadata": {},
   "outputs": [],
   "source": [
    "df_shufled <- df[rows, ]"
   ]
  },
  {
   "cell_type": "code",
   "execution_count": 28,
   "metadata": {},
   "outputs": [
    {
     "data": {
      "text/html": [
       "<style>\n",
       ".list-inline {list-style: none; margin:0; padding: 0}\n",
       ".list-inline>li {display: inline-block}\n",
       ".list-inline>li:not(:last-child)::after {content: \"\\00b7\"; padding: 0 .5ex}\n",
       "</style>\n",
       "<ol class=list-inline><li>14154</li><li>8</li></ol>\n"
      ],
      "text/latex": [
       "\\begin{enumerate*}\n",
       "\\item 14154\n",
       "\\item 8\n",
       "\\end{enumerate*}\n"
      ],
      "text/markdown": [
       "1. 14154\n",
       "2. 8\n",
       "\n",
       "\n"
      ],
      "text/plain": [
       "[1] 14154     8"
      ]
     },
     "metadata": {},
     "output_type": "display_data"
    }
   ],
   "source": [
    "dim(df_shufled)"
   ]
  },
  {
   "cell_type": "code",
   "execution_count": 48,
   "metadata": {},
   "outputs": [],
   "source": [
    "df_shuffled_1 <- df_shufled[1:1399,]\n",
    "df_shuffled_2 <- df_shufled[1400:2799,]\n",
    "df_shuffled_3 <- df_shufled[2800:4199,]\n",
    "df_shuffled_4 <- df_shufled[4200:5599,]\n",
    "df_shuffled_5 <- df_shufled[5600:6999,]\n",
    "df_shuffled_6 <- df_shufled[7000:8399,]\n",
    "df_shuffled_7 <- df_shufled[8400:9799,]\n",
    "df_shuffled_8 <- df_shufled[9800:11199,]\n",
    "df_shuffled_9 <- df_shufled[11200:12599,]\n",
    "df_shuffled_10 <- df_shufled[12600:14154,]"
   ]
  },
  {
   "cell_type": "markdown",
   "metadata": {},
   "source": [
    "Obtenemos los resultados de cada submuestra."
   ]
  },
  {
   "cell_type": "code",
   "execution_count": 49,
   "metadata": {},
   "outputs": [
    {
     "data": {
      "text/html": [
       "0.977732171882965"
      ],
      "text/latex": [
       "0.977732171882965"
      ],
      "text/markdown": [
       "0.977732171882965"
      ],
      "text/plain": [
       "[1] 0.9777322"
      ]
     },
     "metadata": {},
     "output_type": "display_data"
    }
   ],
   "source": [
    "res <- get_clust_tendency(df_shuffled_1, n = nrow(df_shuffled_1)-1, graph = FALSE)\n",
    "res$hopkins_stat"
   ]
  },
  {
   "cell_type": "code",
   "execution_count": 50,
   "metadata": {},
   "outputs": [
    {
     "data": {
      "text/html": [
       "0.970644900346451"
      ],
      "text/latex": [
       "0.970644900346451"
      ],
      "text/markdown": [
       "0.970644900346451"
      ],
      "text/plain": [
       "[1] 0.9706449"
      ]
     },
     "metadata": {},
     "output_type": "display_data"
    }
   ],
   "source": [
    "res <- get_clust_tendency(df_shuffled_2, n = nrow(df_shuffled_2)-1, graph = FALSE)\n",
    "res$hopkins_stat"
   ]
  },
  {
   "cell_type": "code",
   "execution_count": 51,
   "metadata": {},
   "outputs": [
    {
     "data": {
      "text/html": [
       "0.948002646257388"
      ],
      "text/latex": [
       "0.948002646257388"
      ],
      "text/markdown": [
       "0.948002646257388"
      ],
      "text/plain": [
       "[1] 0.9480026"
      ]
     },
     "metadata": {},
     "output_type": "display_data"
    }
   ],
   "source": [
    "res <- get_clust_tendency(df_shuffled_3, n = nrow(df_shuffled_3)-1, graph = FALSE)\n",
    "res$hopkins_stat"
   ]
  },
  {
   "cell_type": "code",
   "execution_count": 52,
   "metadata": {},
   "outputs": [
    {
     "data": {
      "text/html": [
       "0.935422768082623"
      ],
      "text/latex": [
       "0.935422768082623"
      ],
      "text/markdown": [
       "0.935422768082623"
      ],
      "text/plain": [
       "[1] 0.9354228"
      ]
     },
     "metadata": {},
     "output_type": "display_data"
    }
   ],
   "source": [
    "res <- get_clust_tendency(df_shuffled_4, n = nrow(df_shuffled_4)-1, graph = FALSE)\n",
    "res$hopkins_stat"
   ]
  },
  {
   "cell_type": "code",
   "execution_count": 53,
   "metadata": {},
   "outputs": [
    {
     "data": {
      "text/html": [
       "0.948885430939422"
      ],
      "text/latex": [
       "0.948885430939422"
      ],
      "text/markdown": [
       "0.948885430939422"
      ],
      "text/plain": [
       "[1] 0.9488854"
      ]
     },
     "metadata": {},
     "output_type": "display_data"
    }
   ],
   "source": [
    "res <- get_clust_tendency(df_shuffled_5, n = nrow(df_shuffled_5)-1, graph = FALSE)\n",
    "res$hopkins_stat"
   ]
  },
  {
   "cell_type": "code",
   "execution_count": 54,
   "metadata": {},
   "outputs": [
    {
     "data": {
      "text/html": [
       "0.968721774347626"
      ],
      "text/latex": [
       "0.968721774347626"
      ],
      "text/markdown": [
       "0.968721774347626"
      ],
      "text/plain": [
       "[1] 0.9687218"
      ]
     },
     "metadata": {},
     "output_type": "display_data"
    }
   ],
   "source": [
    "res <- get_clust_tendency(df_shuffled_6, n = nrow(df_shuffled_6)-1, graph = FALSE)\n",
    "res$hopkins_stat"
   ]
  },
  {
   "cell_type": "code",
   "execution_count": 55,
   "metadata": {},
   "outputs": [
    {
     "data": {
      "text/html": [
       "0.93126256088412"
      ],
      "text/latex": [
       "0.93126256088412"
      ],
      "text/markdown": [
       "0.93126256088412"
      ],
      "text/plain": [
       "[1] 0.9312626"
      ]
     },
     "metadata": {},
     "output_type": "display_data"
    }
   ],
   "source": [
    "res <- get_clust_tendency(df_shuffled_7, n = nrow(df_shuffled_7)-1, graph = FALSE)\n",
    "res$hopkins_stat"
   ]
  },
  {
   "cell_type": "code",
   "execution_count": 56,
   "metadata": {},
   "outputs": [
    {
     "data": {
      "text/html": [
       "0.950024812774533"
      ],
      "text/latex": [
       "0.950024812774533"
      ],
      "text/markdown": [
       "0.950024812774533"
      ],
      "text/plain": [
       "[1] 0.9500248"
      ]
     },
     "metadata": {},
     "output_type": "display_data"
    }
   ],
   "source": [
    "res <- get_clust_tendency(df_shuffled_8, n = nrow(df_shuffled_8)-1, graph = FALSE)\n",
    "res$hopkins_stat"
   ]
  },
  {
   "cell_type": "code",
   "execution_count": 57,
   "metadata": {},
   "outputs": [
    {
     "data": {
      "text/html": [
       "0.969340668060333"
      ],
      "text/latex": [
       "0.969340668060333"
      ],
      "text/markdown": [
       "0.969340668060333"
      ],
      "text/plain": [
       "[1] 0.9693407"
      ]
     },
     "metadata": {},
     "output_type": "display_data"
    }
   ],
   "source": [
    "res <- get_clust_tendency(df_shuffled_9, n = nrow(df_shuffled_9)-1, graph = FALSE)\n",
    "res$hopkins_stat"
   ]
  },
  {
   "cell_type": "code",
   "execution_count": 58,
   "metadata": {},
   "outputs": [
    {
     "data": {
      "text/html": [
       "0.934090298799326"
      ],
      "text/latex": [
       "0.934090298799326"
      ],
      "text/markdown": [
       "0.934090298799326"
      ],
      "text/plain": [
       "[1] 0.9340903"
      ]
     },
     "metadata": {},
     "output_type": "display_data"
    }
   ],
   "source": [
    "res <- get_clust_tendency(df_shuffled_10, n = nrow(df_shuffled_10)-1, graph = FALSE)\n",
    "res$hopkins_stat"
   ]
  },
  {
   "cell_type": "markdown",
   "metadata": {},
   "source": [
    "Podemos concluir que nuestras submuestras tienen significacnia para obtener clústers, sin embargo, esto sesga la muestra y no la hace representativa, generando un subajuste al modelo."
   ]
  },
  {
   "cell_type": "markdown",
   "metadata": {},
   "source": [
    "Por otro lado el tiempo de carga para obtener el estadistico de Hopkins de la muestra completa fue exageradamente largo, se probo el codigo en 3 computadoras varias veces y el código nunca rrojo respuesta. Se necesita mayor poder de procesamiento."
   ]
  }
 ],
 "metadata": {
  "kernelspec": {
   "display_name": "R",
   "language": "R",
   "name": "ir"
  },
  "language_info": {
   "codemirror_mode": "r",
   "file_extension": ".r",
   "mimetype": "text/x-r-source",
   "name": "R",
   "pygments_lexer": "r",
   "version": "4.0.2"
  }
 },
 "nbformat": 4,
 "nbformat_minor": 4
}
